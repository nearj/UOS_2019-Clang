{
  "nbformat": 4,
  "nbformat_minor": 0,
  "metadata": {
    "kernelspec": {
      "display_name": "Python 3",
      "language": "python",
      "name": "python3"
    },
    "language_info": {
      "codemirror_mode": {
        "name": "ipython",
        "version": 3
      },
      "file_extension": ".py",
      "mimetype": "text/x-python",
      "name": "python",
      "nbconvert_exporter": "python",
      "pygments_lexer": "ipython3",
      "version": "3.7.3"
    },
    "colab": {
      "name": "detect.ipynb",
      "provenance": []
    }
  },
  "cells": [
    {
      "cell_type": "markdown",
      "metadata": {
        "id": "qJQCEc-884_Q",
        "colab_type": "text"
      },
      "source": [
        "# 물체 인식 프로그램 작성\n",
        "\n",
        "\n",
        "## 목표: python을 이용하여 물체 인식 프로그램을 작성한다.\n",
        "\n",
        "### 0. 설정\n",
        "1. [windows key] +[r]\n",
        "2. \"cmd\"\n",
        "3. \"cd Desktop\"\n",
        "4. \"iptyhon\" or make your python program via IDE or Text editor\n",
        "> 앞으로의 수업에서는 pycharm을 사용할 예정이지만, 현재는 ipython을 사용하기로 한다.\n",
        "\n",
        "\n",
        "### 1. 라이브러리 적재\n",
        "\n",
        "* cv2: 영상 처리 라이브러리. C++ 및 python 환경 지원.\n",
        "> 설치: pip install opencv-python\n",
        "* sys: python 시스템 정보 라이브러리."
      ]
    },
    {
      "cell_type": "code",
      "metadata": {
        "id": "Jnx8q1KI84_Q",
        "colab_type": "code",
        "colab": {}
      },
      "source": [
        "import cv2 # This library stands for image processing. YOU can install this via \"pip install opencv-python\"\n",
        "import sys # This library stands for default system information."
      ],
      "execution_count": 0,
      "outputs": []
    },
    {
      "cell_type": "markdown",
      "metadata": {
        "id": "-3aH2TEg84_S",
        "colab_type": "text"
      },
      "source": [
        "### 2. image 파일 이름 설정 및 detecting module 설정\n",
        "\n",
        "* IMAGE_PATH: image 파일 path. \n",
        "* CASCADE_PATH: 사진 속에서 찾고 싶은 물체에 대한 cascade data path\n",
        "> **익숙하지 않다면, 반드시 python program이 돌아가는 곳에 image파일을 넣어주세요. people.png (png 형식)**\n",
        "* SCALE_FACTOR: 얼마나 엄격하게 물체를 찾을 것인지를 정하는 함수, 높을수록 높은 정밀도를 보임.\n",
        "\n",
        "\n",
        "<p align=\"center\"> \n",
        "<img src=\"https://drive.google.com/uc?id=1WKx1rsFqhydAq4_8zZlJp9VIy1-4-7J9\">\n",
        "</p>\n",
        "\n"
      ]
    },
    {
      "cell_type": "code",
      "metadata": {
        "id": "HpLadJ0-84_T",
        "colab_type": "code",
        "colab": {}
      },
      "source": [
        "IMAGE_PATH    = \"people.png\"\n",
        "CASCADE_PATH  = \"haarcascade_frontalface_default.xml\"\n",
        "\n",
        "SCALE_FACTOR  = 1.0001 # must bigger than 1\n",
        "MIN_NEIGHBORS = 5\n",
        "MIN_SIZE      = (30, 30)\n",
        "RGB_SET       = (0, 255, 0) # Red, Green, Blue as 0 to 255"
      ],
      "execution_count": 0,
      "outputs": []
    },
    {
      "cell_type": "markdown",
      "metadata": {
        "id": "S3DWOv_284_U",
        "colab_type": "text"
      },
      "source": [
        "### 3. Cascade 생성 및 image 데이터 로드\n",
        "\n",
        "* cv2.imread(path, ...): cv2 라이브러리의 이미지 로드 함수\n",
        "* cv2.cvtColor(img, color, ...): cv2 라이브러리의 이미지 색상 변환 함수"
      ]
    },
    {
      "cell_type": "code",
      "metadata": {
        "id": "XzfZdbc284_V",
        "colab_type": "code",
        "colab": {}
      },
      "source": [
        "image      = cv2.imread(IMAGE_PATH) \n",
        "gray_image = cv2.cvtColor(image, cv2.COLOR_BGR2GRAY) # for fast processing"
      ],
      "execution_count": 0,
      "outputs": []
    },
    {
      "cell_type": "markdown",
      "metadata": {
        "id": "AUWjYD5v84_W",
        "colab_type": "text"
      },
      "source": [
        "### 4. 물체 인식\n",
        "\n",
        "* cv2.CascadeClassifier(cascade_type: xml): cv2 라이브러리의 CascadeClassifier 클래스 (predefined)\n",
        "* dectectMultiScale(img, scaleFactor, minNeighbors, minSize, ...) CascadeClassifier 클래스의 이미지 detection 함수."
      ]
    },
    {
      "cell_type": "code",
      "metadata": {
        "id": "6GyhiQqq84_X",
        "colab_type": "code",
        "colab": {}
      },
      "source": [
        "cascades = cv2.CascadeClassifier(CASCADE_PATH).detectMultiScale(\n",
        "    gray_image,\n",
        "    scaleFactor  = SCALE_FACTOR,\n",
        "    minNeighbors = MIN_NEIGHBORS,\n",
        "    minSize      = MIN_SIZE,\n",
        "    flags        = cv2.CASCADE_SCALE_IMAGE\n",
        ")"
      ],
      "execution_count": 0,
      "outputs": []
    },
    {
      "cell_type": "markdown",
      "metadata": {
        "id": "zPn9iZqz84_Y",
        "colab_type": "text"
      },
      "source": [
        "### 5. 인식된 물체 표현\n",
        "\n",
        "* cv2.CascadeClassifier(cascade_type: xml): cv2 라이브러리의 CascadeClassifier 클래스 (predefined)\n",
        "* dectectMultiScale(img, scaleFactor, minNeighbors, minSize, ...) CascadeClassifier 클래스의 이미지 detection 함수."
      ]
    },
    {
      "cell_type": "code",
      "metadata": {
        "id": "aiVB2N5784_Z",
        "colab_type": "code",
        "colab": {}
      },
      "source": [
        "for (x, y, w, h) in cascades:\n",
        "    cv2.rectangle(image, (x, y), (x+w, y+h), RGB_SET, 2)\n",
        "\n",
        "cv2.imshow(\"Faces found\", image)\n",
        "cv2.waitKey(0)"
      ],
      "execution_count": 0,
      "outputs": []
    },
    {
      "cell_type": "markdown",
      "metadata": {
        "id": "gilV6PgsAM0o",
        "colab_type": "text"
      },
      "source": [
        "### 6. 고양이?\n",
        "\n",
        "* 냥이로 해보자.\n",
        "\n",
        "\n",
        "<p align=\"center\"> \n",
        "<img src=\"https://drive.google.com/uc?id=12bNc4S2Z_Vf6OY5aWa--LgESC53A8s0n\">\n",
        "</p>\n",
        "\n"
      ]
    },
    {
      "cell_type": "code",
      "metadata": {
        "id": "LAVlgsAwAKmu",
        "colab_type": "code",
        "colab": {}
      },
      "source": [
        "IMAGE_PATH    = \"cat.png\"\n",
        "CASCADE_PATH  = \"haarcascade_frontalcatface_extended.xml\""
      ],
      "execution_count": 0,
      "outputs": []
    },
    {
      "cell_type": "markdown",
      "metadata": {
        "id": "oiSsz_K584_a",
        "colab_type": "text"
      },
      "source": [
        "### Q. 이것은 고양이인가 사람인가?\n",
        "\n",
        "* 쥐--는 무시한다."
      ]
    },
    {
      "cell_type": "markdown",
      "metadata": {
        "id": "oZ1BvRCv84_a",
        "colab_type": "text"
      },
      "source": [
        "<p align=\"center\"> \n",
        "<img src=\"https://drive.google.com/uc?id=1pFzeUM5_Gde_z-6s2ccMSCnVznWWes_r\">\n",
        "</p>"
      ]
    },
    {
      "cell_type": "markdown",
      "metadata": {
        "id": "gjvQifhy84_b",
        "colab_type": "text"
      },
      "source": [
        "이 프로그램은 https://realpython.com/face-recognition-with-python/#reader-comments 에 기반합니다. 더 많은 정보를 보고 싶으면,  https://github.com/shantnu/FaceDetect/ 를 참조해주세요.\n",
        "\n",
        "만약 pretrained detection model이 더 필요하면, https://github.com/AlexeyAB/OpenCV-detection-models 참조 바랍니다.\n",
        "\n",
        "수고하셨습니다!"
      ]
    }
  ]
}
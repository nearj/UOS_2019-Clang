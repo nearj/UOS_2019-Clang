{
 "cells": [
  {
   "cell_type": "markdown",
   "metadata": {},
   "source": [
    "# 물체 인식 프로그램 작성\n",
    "\n",
    "\n",
    "## 목표: python을 이용하여 물체 인식 프로그램을 작성한다.\n",
    "\n",
    "### 0. 설정\n",
    "1. [windows key] +[r]\n",
    "2. \"cmd\"\n",
    "3. \"cd Desktop\"\n",
    "4. \"iptyhon\" or make your python program via IDE or Text editor\n",
    "> 앞으로의 수업에서는 pycharm을 사용할 예정이지만, 현재는 ipython을 사용하기로 한다.\n",
    "\n",
    "\n",
    "### 1. 라이브러리 적재\n",
    "\n",
    "* cv2: 영상 처리 라이브러리. C++ 및 python 환경 지원.\n",
    "> 설치: pip install opencv-python\n",
    "* sys: python 시스템 정보 라이브러리."
   ]
  },
  {
   "cell_type": "code",
   "execution_count": 1,
   "metadata": {},
   "outputs": [],
   "source": [
    "import cv2 # This library stands for image processing. YOU can install this via \"pip install opencv-python\"\n",
    "import sys # This library stands for default system information."
   ]
  },
  {
   "cell_type": "markdown",
   "metadata": {},
   "source": [
    "### 2. image 파일 이름 설정 및 detecting module 설정\n",
    "\n",
    "* image_path: image 파일 path. \n",
    "* cascade_type_path: 사진 속에서 찾고 싶은 물체에 대한 cascade data path\n",
    "> **익숙하지 않다면, 반드시 python program이 돌아가는 곳에 image파일을 넣어주세요. test.png (png 형식)**\n",
    "* SCALE_FACTOR: 얼마나 엄격하게 물체를 찾을 것인지를 정하는 함수, 높을수록 높은 정밀도를 보임."
   ]
  },
  {
   "cell_type": "code",
   "execution_count": null,
   "metadata": {},
   "outputs": [],
   "source": [
    "IMAGE_PATH    = \"test.png\"\n",
    "CASCADE_PATH  = \"haarcascade_frontalface_default.xml\"\n",
    "\n",
    "SCALE_FACTOR  = 1.1 # must bigger than 1\n",
    "MIN_NEIGHBORS = 5\n",
    "MIN_SIZE      = (30, 30)\n",
    "RGB_SET       = (0, 255, 0) # Red, Green, Blue as 0 to 255"
   ]
  },
  {
   "cell_type": "markdown",
   "metadata": {},
   "source": [
    "### 3. Cascade 생성 및 image 데이터 로드\n",
    "\n",
    "* cv2.imread(path, ...): cv2 라이브러리의 이미지 로드 함수\n",
    "* cv2.cvtColor(img, color, ...): cv2 라이브러리의 이미지 색상 변환 함수"
   ]
  },
  {
   "cell_type": "code",
   "execution_count": null,
   "metadata": {},
   "outputs": [],
   "source": [
    "image = cv2.imread(IMAGE_PATH) \n",
    "gray_image  = cv2.cvtColor(image, cv2.COLOR_BGR2GRAY) # for fast processing"
   ]
  },
  {
   "cell_type": "markdown",
   "metadata": {},
   "source": [
    "### 4. 물체 인식\n",
    "\n",
    "* cv2.CascadeClassifier(cascade_type: xml): cv2 라이브러리의 CascadeClassifier 클래스 (predefined)\n",
    "* dectectMultiScale(img, scaleFactor, minNeighbors, minSize, ...) CascadeClassifier 클래스의 이미지 detection 함수."
   ]
  },
  {
   "cell_type": "code",
   "execution_count": null,
   "metadata": {},
   "outputs": [],
   "source": [
    "cascades = cv2.CascadeClassifier(CASCADE_PATH).detectMultiScale(\n",
    "    gray_image,\n",
    "    scaleFactor  = SCALE_FACTOR,\n",
    "    minNeighbors = MIN_NEIGHBORS,\n",
    "    minSize      = MIN_SIZE,\n",
    "    flags        = cv2.CASCADE_SCALE_IMAGE\n",
    ")"
   ]
  },
  {
   "cell_type": "markdown",
   "metadata": {},
   "source": [
    "### 5. 인식된 물체 표현\n",
    "\n",
    "* cv2.CascadeClassifier(cascade_type: xml): cv2 라이브러리의 CascadeClassifier 클래스 (predefined)\n",
    "* dectectMultiScale(img, scaleFactor, minNeighbors, minSize, ...) CascadeClassifier 클래스의 이미지 detection 함수."
   ]
  },
  {
   "cell_type": "code",
   "execution_count": null,
   "metadata": {},
   "outputs": [],
   "source": [
    "for (x, y, w, h) in cascades:\n",
    "    cv2.rectangle(image, (x, y), (x+w, y+h), RGB_SET, 2)\n",
    "\n",
    "cv2.imshow(\"Faces found\", image)\n",
    "cv2.waitKey(0)"
   ]
  },
  {
   "cell_type": "markdown",
   "metadata": {},
   "source": [
    "### Q. 이것은 고양이인가 사람인가?\n",
    "\n",
    "* 쥐--는 무시한다."
   ]
  },
  {
   "attachments": {},
   "cell_type": "markdown",
   "metadata": {},
   "source": []
  },
  {
   "cell_type": "markdown",
   "metadata": {},
   "source": [
    "이 프로그램은 https://realpython.com/face-recognition-with-python/#reader-comments 에 기반합니다. 더 많은 정보를 보고 싶으면,  https://github.com/shantnu/FaceDetect/ 를 참조해주세요.\n",
    "\n",
    "만약 pretrained detection model이 더 필요하면, https://github.com/AlexeyAB/OpenCV-detection-models 참조 바랍니다.\n",
    "\n",
    "수고하셨습니다!"
   ]
  }
 ],
 "metadata": {
  "kernelspec": {
   "display_name": "Python 3",
   "language": "python",
   "name": "python3"
  },
  "language_info": {
   "codemirror_mode": {
    "name": "ipython",
    "version": 3
   },
   "file_extension": ".py",
   "mimetype": "text/x-python",
   "name": "python",
   "nbconvert_exporter": "python",
   "pygments_lexer": "ipython3",
   "version": "3.7.3"
  }
 },
 "nbformat": 4,
 "nbformat_minor": 2
}
